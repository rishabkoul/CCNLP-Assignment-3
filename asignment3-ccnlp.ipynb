{
 "cells": [
  {
   "cell_type": "code",
   "execution_count": 1,
   "id": "ee0759b4",
   "metadata": {},
   "outputs": [],
   "source": [
    "import json\n",
    "from ibm_watson import NaturalLanguageUnderstandingV1\n",
    "from ibm_cloud_sdk_core.authenticators import IAMAuthenticator\n",
    "from ibm_watson.natural_language_understanding_v1 import Features, CategoriesOptions\n",
    "\n",
    "authenticator = IAMAuthenticator('Your IBM NLU api key here')\n",
    "natural_language_understanding = NaturalLanguageUnderstandingV1(\n",
    "    version='2021-08-01',\n",
    "    authenticator=authenticator\n",
    ")\n",
    "\n",
    "natural_language_understanding.set_service_url('Your IBM NLU url here')"
   ]
  },
  {
   "cell_type": "code",
   "execution_count": 2,
   "id": "6d05724b",
   "metadata": {},
   "outputs": [],
   "source": [
    "from newsapi import NewsApiClient\n",
    "\n",
    "# Init\n",
    "newsapi = NewsApiClient(api_key='Your News api Key here')\n",
    "top_headlines = newsapi.get_top_headlines(country='in',page_size=34)"
   ]
  },
  {
   "cell_type": "code",
   "execution_count": 3,
   "id": "44ae6d82",
   "metadata": {},
   "outputs": [],
   "source": [
    "import re"
   ]
  },
  {
   "cell_type": "code",
   "execution_count": 4,
   "id": "c735c798",
   "metadata": {},
   "outputs": [],
   "source": [
    "file2 = open(\"article_and_category.txt\", \"a\")"
   ]
  },
  {
   "cell_type": "code",
   "execution_count": 5,
   "id": "d2a27fdc",
   "metadata": {},
   "outputs": [],
   "source": [
    "import os\n",
    "root=os.getcwd()\n",
    "root=root.replace(\"\\\\\",\"/\")"
   ]
  },
  {
   "cell_type": "code",
   "execution_count": 6,
   "id": "8fefec2b",
   "metadata": {},
   "outputs": [],
   "source": [
    "from pathlib import Path"
   ]
  },
  {
   "cell_type": "code",
   "execution_count": null,
   "id": "669f0eeb",
   "metadata": {},
   "outputs": [
    {
     "name": "stdout",
     "output_type": "stream",
     "text": [
      "Article Url -  https://www.ndtv.com/india-news/coronavirus-india-live-updates-india-reports-2-58-lakh-new-covid-19-cases-2713855  Label -  /health and fitness/disease \n",
      "\n",
      "Article Url -  https://indianexpress.com/elections/uttarakhand-congress-divided-over-return-of-harak-singh-rawat-7728695/  Label -  /law, govt and politics \n",
      "\n",
      "Article Url -  https://www.indiatvnews.com/health/vaping-increases-frequency-of-covid-symptoms-claims-study-omicron-coronavirus-2022-01-18-754981  Label -  /health and fitness/disease \n",
      "\n",
      "path already exist\n",
      "Article Url -  https://www.hindustantimes.com/world-news/imran-khan-batted-for-afia-siddiqui-in-his-pti-manifesto-so-did-pak-senate-101642477859200.html  Label -  /law, govt and politics/armed forces \n",
      "\n",
      "Article Url -  https://timesofindia.indiatimes.com/sports/cricket/news/rohit-sharma-or-ravichandran-ashwin-must-be-stop-gap-test-captain/articleshow/88964501.cms  Label -  /sports/cricket \n",
      "\n",
      "Article Url -  https://www.mysmartprice.com/gear/oneplus-buds-z2-sale-india-price-specifications/  Label -  /technology and computing/tech news \n",
      "\n",
      "Article Url -  https://www.hindustantimes.com/cities/delhi-news/cold-day-conditions-likely-to-abate-in-delhi-today-101642476523896.html  Label -  /science/weather \n",
      "\n",
      "Article Url -  https://indianexpress.com/article/cities/chennai/disappointed-unacceptable-cm-stalin-writes-to-pm-modi-after-centre-rejects-tamil-nadus-proposed-tableau-for-republic-day-parade-7728284/  Label -  /society/unrest and war \n",
      "\n",
      "Article Url -  https://timesofindia.indiatimes.com/entertainment/hindi/bollywood/news/dhanush-and-wife-aishwaryaa-part-ways-fans-express-shock-as-they-extend-support-to-estranged-couple-and-rajinikanth/articleshow/88964143.cms  Label -  /technology and computing/internet technology/social network \n",
      "\n",
      "Article Url -  https://sports.ndtv.com/cricket/virat-kohli-will-have-to-give-up-his-ego-and-play-under-new-leader-says-ex-captain-kapil-dev-2713925  Label -  /sports/cricket \n",
      "\n",
      "path already exist\n",
      "Article Url -  https://www.thehitavada.com/Encyc/2022/1/18/Phytochemicals-discovered-in-Himalayan-plant-Buransh-that-restrains-COVID-19.html  Label -  /health and fitness/disease \n",
      "\n",
      "path already exist\n",
      "Article Url -  https://www.hindustantimes.com/entertainment/vicky-kaushal-relives-good-old-acting-school-days-with-shireen-mirza-watch-101642471416937.html  Label -  /art and entertainment/movies and tv/bollywood \n",
      "\n",
      "Article Url -  https://economictimes.indiatimes.com/markets/stocks/news/stocks-in-the-news-bajaj-finance-tech-mahindra-paytm-hfcl-and-tata-power/articleshow/88963428.cms  Label -  /business and industrial/energy/renewable energy \n",
      "\n",
      "Article Url -  https://tech.hindustantimes.com/how-to/garena-free-fire-redeem-codes-for-january-18-2022-know-how-to-get-today-s-codes-71642471608199.html  Label -  /law, govt and politics \n",
      "\n",
      "path already exist\n",
      "Article Url -  https://www.ndtv.com/world-news/uae-vows-reprisals-as-3-dead-in-drone-attack-on-abu-dhabi-2713886  Label -  /law, govt and politics/armed forces \n",
      "\n",
      "path already exist\n",
      "Article Url -  https://www.bloombergquint.com/markets/all-you-need-to-know-going-into-trade-on-january-18-2  Label -  /finance/investing \n",
      "\n",
      "Article Url -  https://www.hindustantimes.com/entertainment/bollywood/ahan-shetty-on-salman-khan-kissing-tadap-poster-at-premiere-it-s-a-dream-come-true-101642425438214.html  Label -  /food and drink/cuisines/regional cuisine \n",
      "\n",
      "Article Url -  https://www.hindustantimes.com/elections/punjab-assembly-election/channi-as-cm-face-for-punjab-polls-major-hint-by-congress-in-videos-tweeted-101642468995340.html  Label -  /law, govt and politics \n",
      "\n",
      "path already exist\n",
      "Article Url -  https://www.thebharatexpressnews.com/realme-9i-set-to-launch-in-india-today-how-to-watch-the-live-stream/  Label -  /technology and computing/consumer electronics/camera and photo equipment/cameras and camcorders/camera batteries \n",
      "\n",
      "Article Url -  https://timesofindia.indiatimes.com/life-style/health-fitness/weight-loss/carbs-for-weight-loss-why-carbs-are-important-for-weight-loss/photostory/88950987.cms  Label -  /health and fitness/weight loss \n",
      "\n",
      "Article Url -  https://indianexpress.com/article/india/pm-modi-best-time-to-invest-in-india-multilateral-institutions-need-reforms-7728679/  Label -  /society/work/unemployment \n",
      "\n",
      "Article Url -  https://www.hindustantimes.com/world-news/asteroid-twice-the-size-of-burj-khalifa-fly-past-earth-on-january-18-101642465214654.html  Label -  /automotive and vehicles/vehicle brands \n",
      "\n",
      "Article Url -  https://economictimes.indiatimes.com/industry/cons-products/electronics/apple-samsung-may-make-handsets-worth-5-billion-in-fy22/articleshow/88962202.cms  Label -  /business and industrial/manufacturing \n",
      "\n",
      "Article Url -  https://happymag.tv/where-to-get-ps5-australia-2022/  Label -  /technology and computing/internet technology/web search/people search \n",
      "\n",
      "Article Url -  https://www.espn.in/football/bayern-munich-gerbayern_munich/story/4571816/the-best-fifa-robert-lewandowski-beats-lionel-messiequals-cristiano-ronaldo-record-with-second-award  Label -  /sports/soccer \n",
      "\n",
      "Article Url -  https://www.wionews.com/science/research-finds-exoplanet-three-times-more-massive-than-jupiter-445561  Label -  /science/physics/space and astronomy \n",
      "\n",
      "Article Url -  https://www.youtube.com/watch?v=smlE1sJj-Zo  Label -  /automotive and vehicles/cars/hybrid \n",
      "\n",
      "Article Url -  https://www.newsweek.com/where-james-webb-telescope-right-now-when-will-it-reach-its-destination-1670100  Label -  /science/physics/space and astronomy \n",
      "\n",
      "path already exist\n",
      "Article Url -  https://timesofindia.indiatimes.com/world/us/british-pakistani-hostage-takers-family-says-he-had-mental-issues-republicans-democrats-spar-over-border-vs-gun-control/articleshow/88958694.cms  Label -  /law, govt and politics \n",
      "\n",
      "path already exist\n",
      "Article Url -  https://www.hindustantimes.com/videos/india-felt-shockwaves-says-imd-why-tonga-s-volcanic-eruption-was-a-big-event-101642438548862.html  Label -  /science/weather \n",
      "\n",
      "path already exist\n",
      "Article Url -  https://www.republicworld.com/india-news/general-news/republic-tv-pmarq-opinion-poll-bjp-predicted-to-win-up-and-ukhand-close-fight-for-punjab-articleshow.html  Label -  /law, govt and politics/politics/political parties \n",
      "\n",
      "Article Url -  https://www.hindustantimes.com/entertainment/telugu-cinema/samantha-ruth-prabhu-can-t-stop-laughing-as-ganesh-acharya-shows-her-and-allu-arjun-steps-for-pushpa-s-oo-antava-watch-101642430385320.html  Label -  /art and entertainment/movies and tv/action \n",
      "\n"
     ]
    }
   ],
   "source": [
    "for article in top_headlines['articles']:\n",
    "    try:\n",
    "        response = natural_language_understanding.analyze(\n",
    "        url=article['url'],\n",
    "        features=Features(categories=CategoriesOptions(limit=1))).get_result()\n",
    "        print(\"Article Url - \",article['url'],\" Label - \",response['categories'][0]['label'],\"\\n\")\n",
    "        file2.write(\"Article Url - \"+article['url']+\" Label - \"+response['categories'][0]['label']+\"\\n\")\n",
    "        file_path = re.sub(r\"[^a-zA-Z0-9/]\",\"_\",response['categories'][0]['label'])\n",
    "        try:\n",
    "            os.makedirs(Path(root+file_path))\n",
    "        except:\n",
    "            print(\"path already exist\")\n",
    "        file1 = open(Path(root+file_path+\"/\"+re.sub(r\"[^a-zA-Z0-9]\",\"_\",article['title'])+\".html\"), \"w\")\n",
    "        file1.write(\"<!DOCTYPE html><html lang='en'><head><meta charset='UTF-8'><meta http-equiv='X-UA-Compatible' content='IE=edge'><meta name='viewport' content='width=device-width, initial-scale=1.0'><title>{}</title></head><body><h1><a href='{}'>{}</a></h1><img src='{}' alt=''><p>{}</p></body></html>\".format(article['title'],article['url'],article['title'],article['urlToImage'],article['description']))\n",
    "        file1.close()\n",
    "    except:\n",
    "        file1.close()\n",
    "        print(\"Exception occured\")\n",
    "file2.close()"
   ]
  },
  {
   "cell_type": "code",
   "execution_count": null,
   "id": "5733bbc5",
   "metadata": {},
   "outputs": [],
   "source": []
  }
 ],
 "metadata": {
  "kernelspec": {
   "display_name": "Python 3 (ipykernel)",
   "language": "python",
   "name": "python3"
  },
  "language_info": {
   "codemirror_mode": {
    "name": "ipython",
    "version": 3
   },
   "file_extension": ".py",
   "mimetype": "text/x-python",
   "name": "python",
   "nbconvert_exporter": "python",
   "pygments_lexer": "ipython3",
   "version": "3.8.8"
  }
 },
 "nbformat": 4,
 "nbformat_minor": 5
}
